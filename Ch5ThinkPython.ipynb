{
 "metadata": {
  "name": "Ch5ThinkPython"
 },
 "nbformat": 3,
 "worksheets": [
  {
   "cells": [
    {
     "cell_type": "code",
     "collapsed": true,
     "input": [
      "#check check"
     ],
     "language": "python",
     "outputs": []
    }
   ]
  }
 ]
}