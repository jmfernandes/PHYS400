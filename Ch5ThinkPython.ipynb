{
 "metadata": {
  "name": "Ch5ThinkPython"
 },
 "nbformat": 3,
 "worksheets": [
  {
   "cells": [
    {
     "cell_type": "code",
     "collapsed": false,
     "input": [
      "quotient=7/3",
      "remainder = 7 % 3"
     ],
     "language": "python",
     "outputs": [],
     "prompt_number": 2
    },
    {
     "cell_type": "code",
     "collapsed": false,
     "input": [
      "print quotient",
      "print remainder"
     ],
     "language": "python",
     "outputs": [
      {
       "output_type": "stream",
       "stream": "stdout",
       "text": [
        "2",
        "1"
       ]
      }
     ],
     "prompt_number": 3
    },
    {
     "cell_type": "code",
     "collapsed": false,
     "input": [
      "n = [5,6,10]",
      "for i in n:",
      "    if i % 2 == 0:",
      "        print 'no remainder'",
      "    else: ",
      "        print 'remainder'",
      "return",
      "",
      "    "
     ],
     "language": "python",
     "outputs": [
      {
       "ename": "SyntaxError",
       "evalue": "'return' outside function (<ipython-input-22-e0ea592d4552>, line 7)",
       "output_type": "pyerr",
       "traceback": [
        "\u001b[0;36m  File \u001b[0;32m\"<ipython-input-22-e0ea592d4552>\"\u001b[0;36m, line \u001b[0;32m7\u001b[0m\n\u001b[0;31mSyntaxError\u001b[0m\u001b[0;31m:\u001b[0m 'return' outside function\n"
       ]
      },
      {
       "output_type": "stream",
       "stream": "stdout",
       "text": [
        "remainder",
        "no remainder for i",
        "no remainder for i"
       ]
      }
     ],
     "prompt_number": 22
    },
    {
     "cell_type": "code",
     "collapsed": true,
     "input": [],
     "language": "python",
     "outputs": []
    }
   ]
  }
 ]
}