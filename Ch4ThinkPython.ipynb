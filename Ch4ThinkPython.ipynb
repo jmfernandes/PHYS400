{
 "metadata": {
  "name": "Ch4ThinkPython"
 },
 "nbformat": 3,
 "worksheets": [
  {
   "cells": [
    {
     "cell_type": "code",
     "collapsed": true,
     "input": [],
     "language": "python",
     "outputs": []
    }
   ]
  }
 ]
}