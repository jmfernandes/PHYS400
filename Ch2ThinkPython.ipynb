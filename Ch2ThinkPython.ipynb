{
 "metadata": {
  "name": "Ch2ThinkPython"
 },
 "nbformat": 3,
 "worksheets": [
  {
   "cells": [
    {
     "cell_type": "code",
     "collapsed": false,
     "input": [
      "zipcode = 2492",
      "zipcode2 = 01",
      "zipcode3 = 010",
      "zipcode4 = 0100",
      "zipcode5 = 01000",
      "print zipcode2",
      "print zipcode3",
      "print zipcode4",
      "print zipcode5"
     ],
     "language": "python",
     "outputs": [
      {
       "output_type": "stream",
       "stream": "stdout",
       "text": [
        "1",
        "8",
        "64",
        "512"
       ]
      }
     ],
     "prompt_number": 15
    },
    {
     "cell_type": "code",
     "collapsed": false,
     "input": [],
     "language": "python",
     "outputs": [],
     "prompt_number": 4
    },
    {
     "cell_type": "code",
     "collapsed": true,
     "input": [],
     "language": "python",
     "outputs": []
    }
   ]
  }
 ]
}