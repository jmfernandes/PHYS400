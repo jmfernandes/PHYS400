{
 "metadata": {
  "name": "Ch3ThinkPython"
 },
 "nbformat": 3,
 "worksheets": [
  {
   "cells": [
    {
     "cell_type": "code",
     "collapsed": false,
     "input": [
      "type(32)"
     ],
     "language": "python",
     "outputs": [
      {
       "output_type": "pyout",
       "prompt_number": 1,
       "text": [
        "int"
       ]
      }
     ],
     "prompt_number": 1
    },
    {
     "cell_type": "code",
     "collapsed": false,
     "input": [
      "type(32.3)"
     ],
     "language": "python",
     "outputs": [
      {
       "output_type": "pyout",
       "prompt_number": 2,
       "text": [
        "float"
       ]
      }
     ],
     "prompt_number": 2
    },
    {
     "cell_type": "code",
     "collapsed": false,
     "input": [
      "int(32.3) #converts from float to integer"
     ],
     "language": "python",
     "outputs": [
      {
       "output_type": "pyout",
       "prompt_number": 3,
       "text": [
        "32"
       ]
      }
     ],
     "prompt_number": 3
    },
    {
     "cell_type": "code",
     "collapsed": false,
     "input": [
      "float(32) #converts integers to float"
     ],
     "language": "python",
     "outputs": [
      {
       "output_type": "pyout",
       "prompt_number": 4,
       "text": [
        "32.0"
       ]
      }
     ],
     "prompt_number": 4
    },
    {
     "cell_type": "code",
     "collapsed": true,
     "input": [
      "import math"
     ],
     "language": "python",
     "outputs": [],
     "prompt_number": 5
    },
    {
     "cell_type": "code",
     "collapsed": false,
     "input": [
      "print math"
     ],
     "language": "python",
     "outputs": [
      {
       "output_type": "stream",
       "stream": "stdout",
       "text": [
        "<module 'math' from '/Library/Frameworks/Python.framework/Versions/7.2/lib/python2.7/lib-dynload/math.so'>"
       ]
      }
     ],
     "prompt_number": 6
    },
    {
     "cell_type": "code",
     "collapsed": false,
     "input": [
      "signal_power = 5",
      "noise_power = 1.2",
      "ratio = signal_power / noise_power",
      "decibels = 10 * math.log10(ratio)",
      "radians = 0.7",
      "height = math.sin(radians)"
     ],
     "language": "python",
     "outputs": [],
     "prompt_number": 9
    },
    {
     "cell_type": "code",
     "collapsed": false,
     "input": [
      "degrees = 45",
      "radians = degrees / 360.0 * 2 * math.pi ",
      "math.sin(radians)"
     ],
     "language": "python",
     "outputs": [
      {
       "output_type": "pyout",
       "prompt_number": 10,
       "text": [
        "0.7071067811865475"
       ]
      }
     ],
     "prompt_number": 10
    },
    {
     "cell_type": "code",
     "collapsed": false,
     "input": [
      "math.pi"
     ],
     "language": "python",
     "outputs": [
      {
       "output_type": "stream",
       "stream": "stdout",
       "text": [
        "I Like Turtles"
       ]
      }
     ],
     "prompt_number": 21
    },
    {
     "cell_type": "code",
     "collapsed": true,
     "input": [
      "def print_lyrics():",
      "    print \"I Like Turtles\""
     ],
     "language": "python",
     "outputs": [],
     "prompt_number": 2
    },
    {
     "cell_type": "code",
     "collapsed": false,
     "input": [
      "print type(print_lyrics)"
     ],
     "language": "python",
     "outputs": [
      {
       "output_type": "stream",
       "stream": "stdout",
       "text": [
        "<type 'function'>"
       ]
      }
     ],
     "prompt_number": 42
    },
    {
     "cell_type": "code",
     "collapsed": false,
     "input": [
      "print_lyrics()",
      "#repeat_lyrics() # if left here you get error \"name 'repeat_lyrics' is not defined\""
     ],
     "language": "python",
     "outputs": [
      {
       "output_type": "stream",
       "stream": "stdout",
       "text": [
        "I Like Turtles"
       ]
      }
     ],
     "prompt_number": 4
    },
    {
     "cell_type": "code",
     "collapsed": true,
     "input": [
      "def repeat_lyrics(): ",
      "    print_lyrics() ",
      "    print_lyrics()",
      "    "
     ],
     "language": "python",
     "outputs": [],
     "prompt_number": 5
    },
    {
     "cell_type": "code",
     "collapsed": false,
     "input": [
      "repeat_lyrics() #error \"global name 'print_lyrics' is not defined\" if done incorectly"
     ],
     "language": "python",
     "outputs": [
      {
       "output_type": "stream",
       "stream": "stdout",
       "text": [
        "I Like Turtles",
        "I Like Turtles"
       ]
      }
     ],
     "prompt_number": 6
    },
    {
     "cell_type": "code",
     "collapsed": false,
     "input": [
      "len('allen')"
     ],
     "language": "python",
     "outputs": [
      {
       "output_type": "pyout",
       "prompt_number": 7,
       "text": [
        "5"
       ]
      }
     ],
     "prompt_number": 7
    },
    {
     "cell_type": "code",
     "collapsed": false,
     "input": [
      "sl = len('allen')",
      "s = 'allen'",
      "def right_justify(s):",
      "    print (' '*(70-len(s))+s)",
      "    "
     ],
     "language": "python",
     "outputs": [],
     "prompt_number": 19
    },
    {
     "cell_type": "code",
     "collapsed": false,
     "input": [
      "right_justify('allen')",
      "right_justify('mary had a little lamb')"
     ],
     "language": "python",
     "outputs": [
      {
       "output_type": "stream",
       "stream": "stdout",
       "text": [
        "                                                                 allen",
        "                                                mary had a little lamb"
       ]
      }
     ],
     "prompt_number": 28
    },
    {
     "cell_type": "code",
     "collapsed": false,
     "input": [
      "def do_twice(f): ",
      "    f()",
      "    f()"
     ],
     "language": "python",
     "outputs": [],
     "prompt_number": 31
    },
    {
     "cell_type": "code",
     "collapsed": false,
     "input": [
      "f = print_lyrics",
      "do_twice(f)"
     ],
     "language": "python",
     "outputs": [
      {
       "output_type": "stream",
       "stream": "stdout",
       "text": [
        "I Like Turtles",
        "I Like Turtles"
       ]
      }
     ],
     "prompt_number": 44
    },
    {
     "cell_type": "code",
     "collapsed": false,
     "input": [
      "def print_spam():",
      "    print 'spam' ",
      "    ",
      "do_twice(print_spam)"
     ],
     "language": "python",
     "outputs": [
      {
       "output_type": "stream",
       "stream": "stdout",
       "text": [
        "spam",
        "spam"
       ]
      }
     ],
     "prompt_number": 45
    },
    {
     "cell_type": "code",
     "collapsed": false,
     "input": [
      "def print_stuff(a):",
      "    print a",
      "    ",
      "",
      "def doo_twice(f,a):",
      "    print_stuff(a)",
      "    ",
      "    ",
      "a=5",
      "#print_stuff(a)",
      "#f = print_stuff(a)",
      "doo_twice( print_stuff(a),a)"
     ],
     "language": "python",
     "outputs": [
      {
       "output_type": "stream",
       "stream": "stdout",
       "text": [
        "5",
        "5"
       ]
      }
     ],
     "prompt_number": 73
    },
    {
     "cell_type": "code",
     "collapsed": false,
     "input": [
      "a = 'spam'",
      "def print_twice(a):",
      "    print a",
      "    print a",
      "    ",
      "print_twice(a)"
     ],
     "language": "python",
     "outputs": [
      {
       "output_type": "stream",
       "stream": "stdout",
       "text": [
        "spam",
        "spam"
       ]
      }
     ],
     "prompt_number": 65
    },
    {
     "cell_type": "code",
     "collapsed": false,
     "input": [
      "def do_four(f):",
      "    do_twice(f)",
      "    do_twice(f)",
      "    "
     ],
     "language": "python",
     "outputs": [
      {
       "ename": "TypeError",
       "evalue": "'NoneType' object is not callable",
       "output_type": "pyerr",
       "traceback": [
        "\u001b[0;31m---------------------------------------------------------------------------\u001b[0m\n\u001b[0;31mTypeError\u001b[0m                                 Traceback (most recent call last)",
        "\u001b[0;32m/Users/josh/.ssh/phys400/<ipython-input-77-71f7c96f256e>\u001b[0m in \u001b[0;36m<module>\u001b[0;34m()\u001b[0m\n\u001b[1;32m      3\u001b[0m     \u001b[0mdo_twice\u001b[0m\u001b[0;34m(\u001b[0m\u001b[0mf\u001b[0m\u001b[0;34m)\u001b[0m\u001b[0;34m\u001b[0m\u001b[0m\n\u001b[1;32m      4\u001b[0m \u001b[0;34m\u001b[0m\u001b[0m\n\u001b[0;32m----> 5\u001b[0;31m \u001b[0mdo_four\u001b[0m\u001b[0;34m(\u001b[0m\u001b[0mprint_stuff\u001b[0m\u001b[0;34m(\u001b[0m\u001b[0ma\u001b[0m\u001b[0;34m)\u001b[0m\u001b[0;34m)\u001b[0m\u001b[0;34m\u001b[0m\u001b[0m\n\u001b[0m",
        "\u001b[0;32m/Users/josh/.ssh/phys400/<ipython-input-77-71f7c96f256e>\u001b[0m in \u001b[0;36mdo_four\u001b[0;34m(f)\u001b[0m\n\u001b[1;32m      1\u001b[0m \u001b[0;32mdef\u001b[0m \u001b[0mdo_four\u001b[0m\u001b[0;34m(\u001b[0m\u001b[0mf\u001b[0m\u001b[0;34m)\u001b[0m\u001b[0;34m:\u001b[0m\u001b[0;34m\u001b[0m\u001b[0m\n\u001b[0;32m----> 2\u001b[0;31m     \u001b[0mdo_twice\u001b[0m\u001b[0;34m(\u001b[0m\u001b[0mf\u001b[0m\u001b[0;34m)\u001b[0m\u001b[0;34m\u001b[0m\u001b[0m\n\u001b[0m\u001b[1;32m      3\u001b[0m     \u001b[0mdo_twice\u001b[0m\u001b[0;34m(\u001b[0m\u001b[0mf\u001b[0m\u001b[0;34m)\u001b[0m\u001b[0;34m\u001b[0m\u001b[0m\n\u001b[1;32m      4\u001b[0m \u001b[0;34m\u001b[0m\u001b[0m\n\u001b[1;32m      5\u001b[0m \u001b[0mdo_four\u001b[0m\u001b[0;34m(\u001b[0m\u001b[0mprint_stuff\u001b[0m\u001b[0;34m(\u001b[0m\u001b[0ma\u001b[0m\u001b[0;34m)\u001b[0m\u001b[0;34m)\u001b[0m\u001b[0;34m\u001b[0m\u001b[0m\n",
        "\u001b[0;32m/Users/josh/.ssh/phys400/<ipython-input-31-5e5bfafddc5a>\u001b[0m in \u001b[0;36mdo_twice\u001b[0;34m(f)\u001b[0m\n\u001b[1;32m      1\u001b[0m \u001b[0;32mdef\u001b[0m \u001b[0mdo_twice\u001b[0m\u001b[0;34m(\u001b[0m\u001b[0mf\u001b[0m\u001b[0;34m)\u001b[0m\u001b[0;34m:\u001b[0m\u001b[0;34m\u001b[0m\u001b[0m\n\u001b[0;32m----> 2\u001b[0;31m     \u001b[0mf\u001b[0m\u001b[0;34m(\u001b[0m\u001b[0;34m)\u001b[0m\u001b[0;34m\u001b[0m\u001b[0m\n\u001b[0m\u001b[1;32m      3\u001b[0m     \u001b[0mf\u001b[0m\u001b[0;34m(\u001b[0m\u001b[0;34m)\u001b[0m\u001b[0;34m\u001b[0m\u001b[0m\n",
        "\u001b[0;31mTypeError\u001b[0m: 'NoneType' object is not callable"
       ]
      },
      {
       "output_type": "stream",
       "stream": "stdout",
       "text": [
        "5"
       ]
      }
     ],
     "prompt_number": 77
    },
    {
     "cell_type": "code",
     "collapsed": true,
     "input": [
      "def do_twice(f):",
      "    f()",
      "    f()",
      " ",
      "def do_four(f):",
      "    do_twice(f)",
      "    do_twice(f)",
      " ",
      "def print_beam():",
      "    print '+ - - - -',",
      " ",
      "def print_post():",
      "    print '|        ',",
      " ",
      "def print_beams():",
      "    do_twice(print_beam)",
      "    print '+'",
      " ",
      "def print_posts():",
      "    do_twice(print_post)",
      "    print '|'",
      " ",
      "def print_row():",
      "    print_beams()",
      "    do_four(print_posts)",
      " ",
      "def print_grid():",
      "    do_twice(print_row)",
      "    print_beams()",
      " "
     ],
     "language": "python",
     "outputs": [],
     "prompt_number": 21
    },
    {
     "cell_type": "code",
     "collapsed": false,
     "input": [
      "print_grid()"
     ],
     "language": "python",
     "outputs": [
      {
       "output_type": "stream",
       "stream": "stdout",
       "text": [
        "+ - - - - + - - - - +",
        "|         |         |",
        "|         |         |",
        "|         |         |",
        "|         |         |",
        "+ - - - - + - - - - +",
        "|         |         |",
        "|         |         |",
        "|         |         |",
        "|         |         |",
        "+ - - - - + - - - - +"
       ]
      }
     ],
     "prompt_number": 27
    },
    {
     "cell_type": "code",
     "collapsed": false,
     "input": [
      "def one_four_one(f, g, h):",
      "    f()",
      "    do_four(g)",
      "    h()",
      " ",
      "def print_plus():",
      "    print '+',",
      " ",
      "def print_dash():",
      "    print '-',",
      " ",
      "def print_bar():",
      "    print '|',",
      " ",
      "def print_space():",
      "    print ' ',",
      " ",
      "def print_end():",
      "    print",
      " ",
      "def nothing():",
      "    \"do nothing\"",
      " ",
      "def print1beam():",
      "    one_four_one(nothing, print_dash, print_plus)",
      " ",
      "def print1post():",
      "    one_four_one(nothing, print_space, print_bar)",
      " ",
      "def print4beams():",
      "    one_four_one(print_plus, print1beam, print_end)",
      " ",
      "def print4posts():",
      "    one_four_one(print_bar, print1post, print_end)",
      " ",
      "def print_row():",
      "    one_four_one(nothing, print4posts, print4beams)",
      " ",
      "def print_grid():",
      "    one_four_one(print4beams, print_row, nothing)",
      " ",
      "print_grid()"
     ],
     "language": "python",
     "outputs": [
      {
       "output_type": "stream",
       "stream": "stdout",
       "text": [
        "+ - - - - + - - - - + - - - - + - - - - +",
        "|         |         |         |         |",
        "|         |         |         |         |",
        "|         |         |         |         |",
        "|         |         |         |         |",
        "+ - - - - + - - - - + - - - - + - - - - +",
        "|         |         |         |         |",
        "|         |         |         |         |",
        "|         |         |         |         |",
        "|         |         |         |         |",
        "+ - - - - + - - - - + - - - - + - - - - +"
       ]
      },
      {
       "output_type": "stream",
       "stream": "stdout",
       "text": [
        "|         |         |         |         |",
        "|         |         |         |         |",
        "|         |         |         |         |",
        "|         |         |         |         |",
        "+ - - - - + - - - - + - - - - + - - - - +",
        "|         |         |         |         |",
        "|         |         |         |         |",
        "|         |         |         |         |",
        "|         |         |         |         |",
        "+ - - - - + - - - - + - - - - + - - - - +"
       ]
      }
     ],
     "prompt_number": 78
    },
    {
     "cell_type": "code",
     "collapsed": true,
     "input": [],
     "language": "python",
     "outputs": []
    }
   ]
  }
 ]
}