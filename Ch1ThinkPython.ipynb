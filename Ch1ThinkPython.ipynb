{
 "metadata": {
  "name": "Ch1ThinkPython"
 },
 "nbformat": 3,
 "worksheets": [
  {
   "cells": [
    {
     "cell_type": "code",
     "collapsed": false,
     "input": [
      "s ='exercise 1.1'",
      "s2 ='example of a well-structured English sentence with invalid tokens in it'",
      "s3 = 'I went234 to $$the gr0certy s|tor|e today'",
      "s4 = 'example of an English sentence with valid tokens but bad structure'",
      "s5 = 'I wnet to grocerty the erots today'"
     ],
     "language": "python",
     "outputs": [],
     "prompt_number": 12
    },
    {
     "cell_type": "code",
     "collapsed": false,
     "input": [
      "print s",
      "print s2",
      "print s3",
      "print s4",
      "print s5"
     ],
     "language": "python",
     "outputs": [
      {
       "output_type": "stream",
       "stream": "stdout",
       "text": [
        "exercise 1.1",
        "example of a well-structured English sentence with invalid tokens in it",
        "I went234 to $$the gr0certy s|tor|e today",
        "example of an English sentence with valid tokens but bad structure",
        "I wnet to grocerty the erots today"
       ]
      }
     ],
     "prompt_number": 13
    },
    {
     "cell_type": "code",
     "collapsed": false,
     "input": [
      "print('Hello World!')"
     ],
     "language": "python",
     "outputs": [
      {
       "output_type": "stream",
       "stream": "stdout",
       "text": [
        "Hello World!"
       ]
      }
     ],
     "prompt_number": 43
    },
    {
     "cell_type": "code",
     "collapsed": false,
     "input": [
      "help ('print')"
     ],
     "language": "python",
     "outputs": [
      {
       "output_type": "stream",
       "stream": "stdout",
       "text": [
        "The ``print`` statement",
        "***********************",
        "",
        "   print_stmt ::= \"print\" ([expression (\",\" expression)* [\",\"]]",
        "                  | \">>\" expression [(\",\" expression)+ [\",\"]])",
        "",
        "``print`` evaluates each expression in turn and writes the resulting",
        "object to standard output (see below).  If an object is not a string,",
        "it is first converted to a string using the rules for string",
        "conversions.  The (resulting or original) string is then written.  A",
        "space is written before each object is (converted and) written, unless",
        "the output system believes it is positioned at the beginning of a",
        "line.  This is the case (1) when no characters have yet been written",
        "to standard output, (2) when the last character written to standard",
        "output is a whitespace character except ``' '``, or (3) when the last",
        "write operation on standard output was not a ``print`` statement. (In",
        "some cases it may be functional to write an empty string to standard",
        "output for this reason.)",
        "",
        "Note: Objects which act like file objects but which are not the built-in",
        "  file objects often do not properly emulate this aspect of the file",
        "  object's behavior, so it is best not to rely on this.",
        "",
        "A ``'\\n'`` character is written at the end, unless the ``print``",
        "statement ends with a comma.  This is the only action if the statement",
        "contains just the keyword ``print``.",
        "",
        "Standard output is defined as the file object named ``stdout`` in the",
        "built-in module ``sys``.  If no such object exists, or if it does not",
        "have a ``write()`` method, a ``RuntimeError`` exception is raised.",
        "",
        "``print`` also has an extended form, defined by the second portion of",
        "the syntax described above. This form is sometimes referred to as",
        "\"``print`` chevron.\" In this form, the first expression after the",
        "``>>`` must evaluate to a \"file-like\" object, specifically an object",
        "that has a ``write()`` method as described above.  With this extended",
        "form, the subsequent expressions are printed to this file object.  If",
        "the first expression evaluates to ``None``, then ``sys.stdout`` is",
        "used as the file for output."
       ]
      }
     ],
     "prompt_number": 44
    },
    {
     "cell_type": "code",
     "collapsed": false,
     "input": [
      "distance = 10 #km",
      "distance_miles = 10/1.61 #miles",
      "time = 43*60 + 30 #seconds",
      "avg_speed = distance_miles/time #mph",
      "time_mile = time/distance_miles #time per mile",
      "s = 'the average speed is {0:.5f}'.format(avg_speed) + ' mph.'",
      "s2 = 'the time per mile is ' + str(time_mile) + ' spm'",
      "print s",
      "print s2"
     ],
     "language": "python",
     "outputs": [
      {
       "output_type": "stream",
       "stream": "stdout",
       "text": [
        "the average speed is 0.00238 mph.",
        "the time per mile is 420.21 spm"
       ]
      }
     ],
     "prompt_number": 102
    },
    {
     "cell_type": "code",
     "collapsed": true,
     "input": [],
     "language": "python",
     "outputs": []
    }
   ]
  }
 ]
}