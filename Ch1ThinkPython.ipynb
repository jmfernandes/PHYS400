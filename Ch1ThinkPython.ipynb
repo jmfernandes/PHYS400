{
 "metadata": {
  "name": "Ch1ThinkPython"
 },
 "nbformat": 3,
 "worksheets": [
  {
   "cells": [
    {
     "cell_type": "code",
     "collapsed": false,
     "input": [
      "s ='exercise 1.1'",
      "s2 ='example of a well-structured English sentence with invalid tokens in it'",
      "s3 = 'I went234 to $$the gr0certy s|tor|e today'",
      "s4 = 'example of an English sentence with valid tokens but bad structure'",
      "s5 = 'I wnet to grocerty the erots today'"
     ],
     "language": "python",
     "outputs": [],
     "prompt_number": 12
    },
    {
     "cell_type": "code",
     "collapsed": false,
     "input": [
      "print s",
      "print s2",
      "print s3",
      "print s4",
      "print s5"
     ],
     "language": "python",
     "outputs": [
      {
       "output_type": "stream",
       "stream": "stdout",
       "text": [
        "exercise 1.1",
        "example of a well-structured English sentence with invalid tokens in it",
        "I went234 to $$the gr0certy s|tor|e today",
        "example of an English sentence with valid tokens but bad structure",
        "I wnet to grocerty the erots today"
       ]
      }
     ],
     "prompt_number": 13
    },
    {
     "cell_type": "code",
     "collapsed": true,
     "input": [],
     "language": "python",
     "outputs": []
    }
   ]
  }
 ]
}